{
 "cells": [
  {
   "cell_type": "code",
   "execution_count": 1,
   "metadata": {
    "colab": {
     "base_uri": "https://localhost:8080/"
    },
    "executionInfo": {
     "elapsed": 615,
     "status": "error",
     "timestamp": 1630240250794,
     "user": {
      "displayName": "Shravan Singh",
      "photoUrl": "https://lh3.googleusercontent.com/a-/AOh14GgUPYw-iH_f65uyi91U5PxUsC83WzVqF39JDFCf=s64",
      "userId": "13063699925813608124"
     },
     "user_tz": -330
    },
    "id": "isz5TDeJ1b1c",
    "outputId": "51a547c5-81b6-44b9-d123-b8725050028f"
   },
   "outputs": [
    {
     "name": "stderr",
     "output_type": "stream",
     "text": [
      "UsageError: unrecognized arguments: line\n"
     ]
    }
   ],
   "source": [
    "# if the libraries are not available make sure that we do pip install  and download the following libraries before running the code \n",
    "\n",
    "import pandas as pd\n",
    "import numpy as np\n",
    "import seaborn as sns\n",
    "import matplotlib.pyplot as plt\n",
    "% matplotlib in line"
   ]
  },
  {
   "cell_type": "code",
   "execution_count": 11,
   "metadata": {
    "colab": {
     "base_uri": "https://localhost:8080/",
     "height": 445
    },
    "executionInfo": {
     "elapsed": 608,
     "status": "ok",
     "timestamp": 1630240871724,
     "user": {
      "displayName": "Shravan Singh",
      "photoUrl": "https://lh3.googleusercontent.com/a-/AOh14GgUPYw-iH_f65uyi91U5PxUsC83WzVqF39JDFCf=s64",
      "userId": "13063699925813608124"
     },
     "user_tz": -330
    },
    "id": "ILx0tmqG1hcH",
    "outputId": "49f5ac7b-1c32-4135-9a8b-a20aa17012e8"
   },
   "outputs": [
    {
     "data": {
      "text/html": [
       "<div>\n",
       "<style scoped>\n",
       "    .dataframe tbody tr th:only-of-type {\n",
       "        vertical-align: middle;\n",
       "    }\n",
       "\n",
       "    .dataframe tbody tr th {\n",
       "        vertical-align: top;\n",
       "    }\n",
       "\n",
       "    .dataframe thead th {\n",
       "        text-align: right;\n",
       "    }\n",
       "</style>\n",
       "<table border=\"1\" class=\"dataframe\">\n",
       "  <thead>\n",
       "    <tr style=\"text-align: right;\">\n",
       "      <th></th>\n",
       "      <th>id</th>\n",
       "      <th>season</th>\n",
       "      <th>city</th>\n",
       "      <th>date</th>\n",
       "      <th>team1</th>\n",
       "      <th>team2</th>\n",
       "      <th>toss_winner</th>\n",
       "      <th>toss_decision</th>\n",
       "      <th>result</th>\n",
       "      <th>dl_applied</th>\n",
       "      <th>winner</th>\n",
       "      <th>win_by_runs</th>\n",
       "      <th>win_by_wickets</th>\n",
       "      <th>player_of_match</th>\n",
       "      <th>venue</th>\n",
       "      <th>umpire1</th>\n",
       "      <th>umpire2</th>\n",
       "      <th>umpire3</th>\n",
       "    </tr>\n",
       "  </thead>\n",
       "  <tbody>\n",
       "    <tr>\n",
       "      <th>0</th>\n",
       "      <td>1</td>\n",
       "      <td>2017</td>\n",
       "      <td>Hyderabad</td>\n",
       "      <td>2017-04-05</td>\n",
       "      <td>Sunrisers Hyderabad</td>\n",
       "      <td>Royal Challengers Bangalore</td>\n",
       "      <td>Royal Challengers Bangalore</td>\n",
       "      <td>field</td>\n",
       "      <td>normal</td>\n",
       "      <td>0</td>\n",
       "      <td>Sunrisers Hyderabad</td>\n",
       "      <td>35</td>\n",
       "      <td>0</td>\n",
       "      <td>Yuvraj Singh</td>\n",
       "      <td>Rajiv Gandhi International Stadium, Uppal</td>\n",
       "      <td>AY Dandekar</td>\n",
       "      <td>NJ Llong</td>\n",
       "      <td>NaN</td>\n",
       "    </tr>\n",
       "    <tr>\n",
       "      <th>1</th>\n",
       "      <td>2</td>\n",
       "      <td>2017</td>\n",
       "      <td>Pune</td>\n",
       "      <td>2017-04-06</td>\n",
       "      <td>Mumbai Indians</td>\n",
       "      <td>Rising Pune Supergiant</td>\n",
       "      <td>Rising Pune Supergiant</td>\n",
       "      <td>field</td>\n",
       "      <td>normal</td>\n",
       "      <td>0</td>\n",
       "      <td>Rising Pune Supergiant</td>\n",
       "      <td>0</td>\n",
       "      <td>7</td>\n",
       "      <td>SPD Smith</td>\n",
       "      <td>Maharashtra Cricket Association Stadium</td>\n",
       "      <td>A Nand Kishore</td>\n",
       "      <td>S Ravi</td>\n",
       "      <td>NaN</td>\n",
       "    </tr>\n",
       "    <tr>\n",
       "      <th>2</th>\n",
       "      <td>3</td>\n",
       "      <td>2017</td>\n",
       "      <td>Rajkot</td>\n",
       "      <td>2017-04-07</td>\n",
       "      <td>Gujarat Lions</td>\n",
       "      <td>Kolkata Knight Riders</td>\n",
       "      <td>Kolkata Knight Riders</td>\n",
       "      <td>field</td>\n",
       "      <td>normal</td>\n",
       "      <td>0</td>\n",
       "      <td>Kolkata Knight Riders</td>\n",
       "      <td>0</td>\n",
       "      <td>10</td>\n",
       "      <td>CA Lynn</td>\n",
       "      <td>Saurashtra Cricket Association Stadium</td>\n",
       "      <td>Nitin Menon</td>\n",
       "      <td>CK Nandan</td>\n",
       "      <td>NaN</td>\n",
       "    </tr>\n",
       "    <tr>\n",
       "      <th>3</th>\n",
       "      <td>4</td>\n",
       "      <td>2017</td>\n",
       "      <td>Indore</td>\n",
       "      <td>2017-04-08</td>\n",
       "      <td>Rising Pune Supergiant</td>\n",
       "      <td>Kings XI Punjab</td>\n",
       "      <td>Kings XI Punjab</td>\n",
       "      <td>field</td>\n",
       "      <td>normal</td>\n",
       "      <td>0</td>\n",
       "      <td>Kings XI Punjab</td>\n",
       "      <td>0</td>\n",
       "      <td>6</td>\n",
       "      <td>GJ Maxwell</td>\n",
       "      <td>Holkar Cricket Stadium</td>\n",
       "      <td>AK Chaudhary</td>\n",
       "      <td>C Shamshuddin</td>\n",
       "      <td>NaN</td>\n",
       "    </tr>\n",
       "    <tr>\n",
       "      <th>4</th>\n",
       "      <td>5</td>\n",
       "      <td>2017</td>\n",
       "      <td>Bangalore</td>\n",
       "      <td>2017-04-08</td>\n",
       "      <td>Royal Challengers Bangalore</td>\n",
       "      <td>Delhi Daredevils</td>\n",
       "      <td>Royal Challengers Bangalore</td>\n",
       "      <td>bat</td>\n",
       "      <td>normal</td>\n",
       "      <td>0</td>\n",
       "      <td>Royal Challengers Bangalore</td>\n",
       "      <td>15</td>\n",
       "      <td>0</td>\n",
       "      <td>KM Jadhav</td>\n",
       "      <td>M Chinnaswamy Stadium</td>\n",
       "      <td>NaN</td>\n",
       "      <td>NaN</td>\n",
       "      <td>NaN</td>\n",
       "    </tr>\n",
       "  </tbody>\n",
       "</table>\n",
       "</div>"
      ],
      "text/plain": [
       "   id  season       city  ...         umpire1        umpire2 umpire3\n",
       "0   1    2017  Hyderabad  ...     AY Dandekar       NJ Llong     NaN\n",
       "1   2    2017       Pune  ...  A Nand Kishore         S Ravi     NaN\n",
       "2   3    2017     Rajkot  ...     Nitin Menon      CK Nandan     NaN\n",
       "3   4    2017     Indore  ...    AK Chaudhary  C Shamshuddin     NaN\n",
       "4   5    2017  Bangalore  ...             NaN            NaN     NaN\n",
       "\n",
       "[5 rows x 18 columns]"
      ]
     },
     "execution_count": 11,
     "metadata": {},
     "output_type": "execute_result"
    }
   ],
   "source": [
    "match = pd.read_csv(r\"matches.csv\")\n",
    "match.head()"
   ]
  },
  {
   "cell_type": "code",
   "execution_count": 12,
   "metadata": {
    "colab": {
     "base_uri": "https://localhost:8080/"
    },
    "executionInfo": {
     "elapsed": 347,
     "status": "ok",
     "timestamp": 1630240889774,
     "user": {
      "displayName": "Shravan Singh",
      "photoUrl": "https://lh3.googleusercontent.com/a-/AOh14GgUPYw-iH_f65uyi91U5PxUsC83WzVqF39JDFCf=s64",
      "userId": "13063699925813608124"
     },
     "user_tz": -330
    },
    "id": "i3YSM5wM1vZR",
    "outputId": "c44a3375-ee93-4dbc-d811-592dfb85d5fb"
   },
   "outputs": [
    {
     "data": {
      "text/plain": [
       "(636, 18)"
      ]
     },
     "execution_count": 12,
     "metadata": {},
     "output_type": "execute_result"
    }
   ],
   "source": [
    "match.shape"
   ]
  },
  {
   "cell_type": "code",
   "execution_count": 13,
   "metadata": {
    "colab": {
     "base_uri": "https://localhost:8080/"
    },
    "executionInfo": {
     "elapsed": 342,
     "status": "ok",
     "timestamp": 1630240897064,
     "user": {
      "displayName": "Shravan Singh",
      "photoUrl": "https://lh3.googleusercontent.com/a-/AOh14GgUPYw-iH_f65uyi91U5PxUsC83WzVqF39JDFCf=s64",
      "userId": "13063699925813608124"
     },
     "user_tz": -330
    },
    "id": "eWBuLP_-10kG",
    "outputId": "471d25ce-9c9e-40a7-f97d-fafd1f3f52cd"
   },
   "outputs": [
    {
     "data": {
      "text/plain": [
       "id                   0\n",
       "season               0\n",
       "city                 7\n",
       "date                 0\n",
       "team1                0\n",
       "team2                0\n",
       "toss_winner          0\n",
       "toss_decision        0\n",
       "result               0\n",
       "dl_applied           0\n",
       "winner               3\n",
       "win_by_runs          0\n",
       "win_by_wickets       0\n",
       "player_of_match      3\n",
       "venue                0\n",
       "umpire1              1\n",
       "umpire2              1\n",
       "umpire3            636\n",
       "dtype: int64"
      ]
     },
     "execution_count": 13,
     "metadata": {},
     "output_type": "execute_result"
    }
   ],
   "source": [
    "match.isnull().sum()"
   ]
  },
  {
   "cell_type": "code",
   "execution_count": 14,
   "metadata": {
    "colab": {
     "base_uri": "https://localhost:8080/",
     "height": 359
    },
    "executionInfo": {
     "elapsed": 1232,
     "status": "ok",
     "timestamp": 1630240907200,
     "user": {
      "displayName": "Shravan Singh",
      "photoUrl": "https://lh3.googleusercontent.com/a-/AOh14GgUPYw-iH_f65uyi91U5PxUsC83WzVqF39JDFCf=s64",
      "userId": "13063699925813608124"
     },
     "user_tz": -330
    },
    "id": "yMhJg6m215XW",
    "outputId": "3852757e-ecb7-4e0c-93af-ebdad8a464a1"
   },
   "outputs": [
    {
     "data": {
      "text/plain": [
       "<matplotlib.axes._subplots.AxesSubplot at 0x7f51865793d0>"
      ]
     },
     "execution_count": 14,
     "metadata": {},
     "output_type": "execute_result"
    },
    {
     "data": {
      "image/png": "[encoded data removed]",
      "text/plain": [
       "<Figure size 432x288 with 2 Axes>"
      ]
     },
     "metadata": {
      "needs_background": "light"
     },
     "output_type": "display_data"
    }
   ],
   "source": [
    "sns.heatmap(match.isnull(), cmap=\"spring\")"
   ]
  },
  {
   "cell_type": "code",
   "execution_count": 15,
   "metadata": {
    "executionInfo": {
     "elapsed": 364,
     "status": "ok",
     "timestamp": 1630241029169,
     "user": {
      "displayName": "Shravan Singh",
      "photoUrl": "https://lh3.googleusercontent.com/a-/AOh14GgUPYw-iH_f65uyi91U5PxUsC83WzVqF39JDFCf=s64",
      "userId": "13063699925813608124"
     },
     "user_tz": -330
    },
    "id": "ciS18JTm2AtG"
   },
   "outputs": [],
   "source": [
    "#Since there are 636 rows also the data of umpire 3 is not available for all the 636 rows, therefore dropping that coloumn"
   ]
  },
  {
   "cell_type": "code",
   "execution_count": 16,
   "metadata": {
    "colab": {
     "base_uri": "https://localhost:8080/",
     "height": 445
    },
    "executionInfo": {
     "elapsed": 348,
     "status": "ok",
     "timestamp": 1630241059487,
     "user": {
      "displayName": "Shravan Singh",
      "photoUrl": "https://lh3.googleusercontent.com/a-/AOh14GgUPYw-iH_f65uyi91U5PxUsC83WzVqF39JDFCf=s64",
      "userId": "13063699925813608124"
     },
     "user_tz": -330
    },
    "id": "8-e-18s07_h2",
    "outputId": "326b41f9-f03c-4659-bd16-afdae3ccaf2e"
   },
   "outputs": [
    {
     "data": {
      "text/html": [
       "<div>\n",
       "<style scoped>\n",
       "    .dataframe tbody tr th:only-of-type {\n",
       "        vertical-align: middle;\n",
       "    }\n",
       "\n",
       "    .dataframe tbody tr th {\n",
       "        vertical-align: top;\n",
       "    }\n",
       "\n",
       "    .dataframe thead th {\n",
       "        text-align: right;\n",
       "    }\n",
       "</style>\n",
       "<table border=\"1\" class=\"dataframe\">\n",
       "  <thead>\n",
       "    <tr style=\"text-align: right;\">\n",
       "      <th></th>\n",
       "      <th>id</th>\n",
       "      <th>season</th>\n",
       "      <th>city</th>\n",
       "      <th>date</th>\n",
       "      <th>team1</th>\n",
       "      <th>team2</th>\n",
       "      <th>toss_winner</th>\n",
       "      <th>toss_decision</th>\n",
       "      <th>result</th>\n",
       "      <th>dl_applied</th>\n",
       "      <th>winner</th>\n",
       "      <th>win_by_runs</th>\n",
       "      <th>win_by_wickets</th>\n",
       "      <th>player_of_match</th>\n",
       "      <th>venue</th>\n",
       "      <th>umpire1</th>\n",
       "      <th>umpire2</th>\n",
       "      <th>umpire3</th>\n",
       "    </tr>\n",
       "  </thead>\n",
       "  <tbody>\n",
       "    <tr>\n",
       "      <th>0</th>\n",
       "      <td>1</td>\n",
       "      <td>2017</td>\n",
       "      <td>Hyderabad</td>\n",
       "      <td>2017-04-05</td>\n",
       "      <td>Sunrisers Hyderabad</td>\n",
       "      <td>Royal Challengers Bangalore</td>\n",
       "      <td>Royal Challengers Bangalore</td>\n",
       "      <td>field</td>\n",
       "      <td>normal</td>\n",
       "      <td>0</td>\n",
       "      <td>Sunrisers Hyderabad</td>\n",
       "      <td>35</td>\n",
       "      <td>0</td>\n",
       "      <td>Yuvraj Singh</td>\n",
       "      <td>Rajiv Gandhi International Stadium, Uppal</td>\n",
       "      <td>AY Dandekar</td>\n",
       "      <td>NJ Llong</td>\n",
       "      <td>NaN</td>\n",
       "    </tr>\n",
       "    <tr>\n",
       "      <th>1</th>\n",
       "      <td>2</td>\n",
       "      <td>2017</td>\n",
       "      <td>Pune</td>\n",
       "      <td>2017-04-06</td>\n",
       "      <td>Mumbai Indians</td>\n",
       "      <td>Rising Pune Supergiant</td>\n",
       "      <td>Rising Pune Supergiant</td>\n",
       "      <td>field</td>\n",
       "      <td>normal</td>\n",
       "      <td>0</td>\n",
       "      <td>Rising Pune Supergiant</td>\n",
       "      <td>0</td>\n",
       "      <td>7</td>\n",
       "      <td>SPD Smith</td>\n",
       "      <td>Maharashtra Cricket Association Stadium</td>\n",
       "      <td>A Nand Kishore</td>\n",
       "      <td>S Ravi</td>\n",
       "      <td>NaN</td>\n",
       "    </tr>\n",
       "    <tr>\n",
       "      <th>2</th>\n",
       "      <td>3</td>\n",
       "      <td>2017</td>\n",
       "      <td>Rajkot</td>\n",
       "      <td>2017-04-07</td>\n",
       "      <td>Gujarat Lions</td>\n",
       "      <td>Kolkata Knight Riders</td>\n",
       "      <td>Kolkata Knight Riders</td>\n",
       "      <td>field</td>\n",
       "      <td>normal</td>\n",
       "      <td>0</td>\n",
       "      <td>Kolkata Knight Riders</td>\n",
       "      <td>0</td>\n",
       "      <td>10</td>\n",
       "      <td>CA Lynn</td>\n",
       "      <td>Saurashtra Cricket Association Stadium</td>\n",
       "      <td>Nitin Menon</td>\n",
       "      <td>CK Nandan</td>\n",
       "      <td>NaN</td>\n",
       "    </tr>\n",
       "    <tr>\n",
       "      <th>3</th>\n",
       "      <td>4</td>\n",
       "      <td>2017</td>\n",
       "      <td>Indore</td>\n",
       "      <td>2017-04-08</td>\n",
       "      <td>Rising Pune Supergiant</td>\n",
       "      <td>Kings XI Punjab</td>\n",
       "      <td>Kings XI Punjab</td>\n",
       "      <td>field</td>\n",
       "      <td>normal</td>\n",
       "      <td>0</td>\n",
       "      <td>Kings XI Punjab</td>\n",
       "      <td>0</td>\n",
       "      <td>6</td>\n",
       "      <td>GJ Maxwell</td>\n",
       "      <td>Holkar Cricket Stadium</td>\n",
       "      <td>AK Chaudhary</td>\n",
       "      <td>C Shamshuddin</td>\n",
       "      <td>NaN</td>\n",
       "    </tr>\n",
       "    <tr>\n",
       "      <th>4</th>\n",
       "      <td>5</td>\n",
       "      <td>2017</td>\n",
       "      <td>Bangalore</td>\n",
       "      <td>2017-04-08</td>\n",
       "      <td>Royal Challengers Bangalore</td>\n",
       "      <td>Delhi Daredevils</td>\n",
       "      <td>Royal Challengers Bangalore</td>\n",
       "      <td>bat</td>\n",
       "      <td>normal</td>\n",
       "      <td>0</td>\n",
       "      <td>Royal Challengers Bangalore</td>\n",
       "      <td>15</td>\n",
       "      <td>0</td>\n",
       "      <td>KM Jadhav</td>\n",
       "      <td>M Chinnaswamy Stadium</td>\n",
       "      <td>NaN</td>\n",
       "      <td>NaN</td>\n",
       "      <td>NaN</td>\n",
       "    </tr>\n",
       "  </tbody>\n",
       "</table>\n",
       "</div>"
      ],
      "text/plain": [
       "   id  season       city  ...         umpire1        umpire2 umpire3\n",
       "0   1    2017  Hyderabad  ...     AY Dandekar       NJ Llong     NaN\n",
       "1   2    2017       Pune  ...  A Nand Kishore         S Ravi     NaN\n",
       "2   3    2017     Rajkot  ...     Nitin Menon      CK Nandan     NaN\n",
       "3   4    2017     Indore  ...    AK Chaudhary  C Shamshuddin     NaN\n",
       "4   5    2017  Bangalore  ...             NaN            NaN     NaN\n",
       "\n",
       "[5 rows x 18 columns]"
      ]
     },
     "execution_count": 16,
     "metadata": {},
     "output_type": "execute_result"
    }
   ],
   "source": [
    "#Printing the original Dataset again\n",
    "\n",
    "match.head()"
   ]
  },
  {
   "cell_type": "code",
   "execution_count": 17,
   "metadata": {
    "executionInfo": {
     "elapsed": 359,
     "status": "ok",
     "timestamp": 1630241077032,
     "user": {
      "displayName": "Shravan Singh",
      "photoUrl": "https://lh3.googleusercontent.com/a-/AOh14GgUPYw-iH_f65uyi91U5PxUsC83WzVqF39JDFCf=s64",
      "userId": "13063699925813608124"
     },
     "user_tz": -330
    },
    "id": "Kmcg3RUT8G5B"
   },
   "outputs": [],
   "source": [
    "#Dropping the umpire 3 coloumn"
   ]
  },
  {
   "cell_type": "code",
   "execution_count": 19,
   "metadata": {
    "executionInfo": {
     "elapsed": 501,
     "status": "ok",
     "timestamp": 1630241118325,
     "user": {
      "displayName": "Shravan Singh",
      "photoUrl": "https://lh3.googleusercontent.com/a-/AOh14GgUPYw-iH_f65uyi91U5PxUsC83WzVqF39JDFCf=s64",
      "userId": "13063699925813608124"
     },
     "user_tz": -330
    },
    "id": "n0O6BgeX8LLc"
   },
   "outputs": [],
   "source": [
    "match.drop(\"umpire3\", axis=1, inplace=True)"
   ]
  },
  {
   "cell_type": "code",
   "execution_count": 20,
   "metadata": {
    "executionInfo": {
     "elapsed": 347,
     "status": "ok",
     "timestamp": 1630241132040,
     "user": {
      "displayName": "Shravan Singh",
      "photoUrl": "https://lh3.googleusercontent.com/a-/AOh14GgUPYw-iH_f65uyi91U5PxUsC83WzVqF39JDFCf=s64",
      "userId": "13063699925813608124"
     },
     "user_tz": -330
    },
    "id": "CMMLEWzx8Srm"
   },
   "outputs": [],
   "source": [
    "#Printing the Dataset after dropping the coloumn "
   ]
  },
  {
   "cell_type": "code",
   "execution_count": 21,
   "metadata": {
    "colab": {
     "base_uri": "https://localhost:8080/",
     "height": 445
    },
    "executionInfo": {
     "elapsed": 606,
     "status": "ok",
     "timestamp": 1630241146729,
     "user": {
      "displayName": "Shravan Singh",
      "photoUrl": "https://lh3.googleusercontent.com/a-/AOh14GgUPYw-iH_f65uyi91U5PxUsC83WzVqF39JDFCf=s64",
      "userId": "13063699925813608124"
     },
     "user_tz": -330
    },
    "id": "QfhU4zvH8Ypj",
    "outputId": "9cfe5df9-0811-4841-f872-fe9f70ea870f"
   },
   "outputs": [
    {
     "data": {
      "text/html": [
       "<div>\n",
       "<style scoped>\n",
       "    .dataframe tbody tr th:only-of-type {\n",
       "        vertical-align: middle;\n",
       "    }\n",
       "\n",
       "    .dataframe tbody tr th {\n",
       "        vertical-align: top;\n",
       "    }\n",
       "\n",
       "    .dataframe thead th {\n",
       "        text-align: right;\n",
       "    }\n",
       "</style>\n",
       "<table border=\"1\" class=\"dataframe\">\n",
       "  <thead>\n",
       "    <tr style=\"text-align: right;\">\n",
       "      <th></th>\n",
       "      <th>id</th>\n",
       "      <th>season</th>\n",
       "      <th>city</th>\n",
       "      <th>date</th>\n",
       "      <th>team1</th>\n",
       "      <th>team2</th>\n",
       "      <th>toss_winner</th>\n",
       "      <th>toss_decision</th>\n",
       "      <th>result</th>\n",
       "      <th>dl_applied</th>\n",
       "      <th>winner</th>\n",
       "      <th>win_by_runs</th>\n",
       "      <th>win_by_wickets</th>\n",
       "      <th>player_of_match</th>\n",
       "      <th>venue</th>\n",
       "      <th>umpire1</th>\n",
       "      <th>umpire2</th>\n",
       "    </tr>\n",
       "  </thead>\n",
       "  <tbody>\n",
       "    <tr>\n",
       "      <th>0</th>\n",
       "      <td>1</td>\n",
       "      <td>2017</td>\n",
       "      <td>Hyderabad</td>\n",
       "      <td>2017-04-05</td>\n",
       "      <td>Sunrisers Hyderabad</td>\n",
       "      <td>Royal Challengers Bangalore</td>\n",
       "      <td>Royal Challengers Bangalore</td>\n",
       "      <td>field</td>\n",
       "      <td>normal</td>\n",
       "      <td>0</td>\n",
       "      <td>Sunrisers Hyderabad</td>\n",
       "      <td>35</td>\n",
       "      <td>0</td>\n",
       "      <td>Yuvraj Singh</td>\n",
       "      <td>Rajiv Gandhi International Stadium, Uppal</td>\n",
       "      <td>AY Dandekar</td>\n",
       "      <td>NJ Llong</td>\n",
       "    </tr>\n",
       "    <tr>\n",
       "      <th>1</th>\n",
       "      <td>2</td>\n",
       "      <td>2017</td>\n",
       "      <td>Pune</td>\n",
       "      <td>2017-04-06</td>\n",
       "      <td>Mumbai Indians</td>\n",
       "      <td>Rising Pune Supergiant</td>\n",
       "      <td>Rising Pune Supergiant</td>\n",
       "      <td>field</td>\n",
       "      <td>normal</td>\n",
       "      <td>0</td>\n",
       "      <td>Rising Pune Supergiant</td>\n",
       "      <td>0</td>\n",
       "      <td>7</td>\n",
       "      <td>SPD Smith</td>\n",
       "      <td>Maharashtra Cricket Association Stadium</td>\n",
       "      <td>A Nand Kishore</td>\n",
       "      <td>S Ravi</td>\n",
       "    </tr>\n",
       "    <tr>\n",
       "      <th>2</th>\n",
       "      <td>3</td>\n",
       "      <td>2017</td>\n",
       "      <td>Rajkot</td>\n",
       "      <td>2017-04-07</td>\n",
       "      <td>Gujarat Lions</td>\n",
       "      <td>Kolkata Knight Riders</td>\n",
       "      <td>Kolkata Knight Riders</td>\n",
       "      <td>field</td>\n",
       "      <td>normal</td>\n",
       "      <td>0</td>\n",
       "      <td>Kolkata Knight Riders</td>\n",
       "      <td>0</td>\n",
       "      <td>10</td>\n",
       "      <td>CA Lynn</td>\n",
       "      <td>Saurashtra Cricket Association Stadium</td>\n",
       "      <td>Nitin Menon</td>\n",
       "      <td>CK Nandan</td>\n",
       "    </tr>\n",
       "    <tr>\n",
       "      <th>3</th>\n",
       "      <td>4</td>\n",
       "      <td>2017</td>\n",
       "      <td>Indore</td>\n",
       "      <td>2017-04-08</td>\n",
       "      <td>Rising Pune Supergiant</td>\n",
       "      <td>Kings XI Punjab</td>\n",
       "      <td>Kings XI Punjab</td>\n",
       "      <td>field</td>\n",
       "      <td>normal</td>\n",
       "      <td>0</td>\n",
       "      <td>Kings XI Punjab</td>\n",
       "      <td>0</td>\n",
       "      <td>6</td>\n",
       "      <td>GJ Maxwell</td>\n",
       "      <td>Holkar Cricket Stadium</td>\n",
       "      <td>AK Chaudhary</td>\n",
       "      <td>C Shamshuddin</td>\n",
       "    </tr>\n",
       "    <tr>\n",
       "      <th>4</th>\n",
       "      <td>5</td>\n",
       "      <td>2017</td>\n",
       "      <td>Bangalore</td>\n",
       "      <td>2017-04-08</td>\n",
       "      <td>Royal Challengers Bangalore</td>\n",
       "      <td>Delhi Daredevils</td>\n",
       "      <td>Royal Challengers Bangalore</td>\n",
       "      <td>bat</td>\n",
       "      <td>normal</td>\n",
       "      <td>0</td>\n",
       "      <td>Royal Challengers Bangalore</td>\n",
       "      <td>15</td>\n",
       "      <td>0</td>\n",
       "      <td>KM Jadhav</td>\n",
       "      <td>M Chinnaswamy Stadium</td>\n",
       "      <td>NaN</td>\n",
       "      <td>NaN</td>\n",
       "    </tr>\n",
       "  </tbody>\n",
       "</table>\n",
       "</div>"
      ],
      "text/plain": [
       "   id  season  ...         umpire1        umpire2\n",
       "0   1    2017  ...     AY Dandekar       NJ Llong\n",
       "1   2    2017  ...  A Nand Kishore         S Ravi\n",
       "2   3    2017  ...     Nitin Menon      CK Nandan\n",
       "3   4    2017  ...    AK Chaudhary  C Shamshuddin\n",
       "4   5    2017  ...             NaN            NaN\n",
       "\n",
       "[5 rows x 17 columns]"
      ]
     },
     "execution_count": 21,
     "metadata": {},
     "output_type": "execute_result"
    }
   ],
   "source": [
    "match.head()"
   ]
  },
  {
   "cell_type": "code",
   "execution_count": 22,
   "metadata": {
    "executionInfo": {
     "elapsed": 352,
     "status": "ok",
     "timestamp": 1630241169583,
     "user": {
      "displayName": "Shravan Singh",
      "photoUrl": "https://lh3.googleusercontent.com/a-/AOh14GgUPYw-iH_f65uyi91U5PxUsC83WzVqF39JDFCf=s64",
      "userId": "13063699925813608124"
     },
     "user_tz": -330
    },
    "id": "qGy9Gb2e8b8V"
   },
   "outputs": [],
   "source": [
    "match.dropna(inplace=True)"
   ]
  },
  {
   "cell_type": "code",
   "execution_count": 23,
   "metadata": {
    "colab": {
     "base_uri": "https://localhost:8080/",
     "height": 359
    },
    "executionInfo": {
     "elapsed": 449,
     "status": "ok",
     "timestamp": 1630241187827,
     "user": {
      "displayName": "Shravan Singh",
      "photoUrl": "https://lh3.googleusercontent.com/a-/AOh14GgUPYw-iH_f65uyi91U5PxUsC83WzVqF39JDFCf=s64",
      "userId": "13063699925813608124"
     },
     "user_tz": -330
    },
    "id": "90ZPjS9D8hqh",
    "outputId": "473f06ff-3c05-49ea-f657-1f834ada4ded"
   },
   "outputs": [
    {
     "data": {
      "text/plain": [
       "<matplotlib.axes._subplots.AxesSubplot at 0x7f5186b43710>"
      ]
     },
     "execution_count": 23,
     "metadata": {},
     "output_type": "execute_result"
    },
    {
     "data": {
      "image/png": "[encoded data removed]",
      "text/plain": [
       "<Figure size 432x288 with 1 Axes>"
      ]
     },
     "metadata": {
      "needs_background": "light"
     },
     "output_type": "display_data"
    }
   ],
   "source": [
    "sns.heatmap(match.isnull(), cbar=False)"
   ]
  },
  {
   "cell_type": "code",
   "execution_count": 24,
   "metadata": {
    "executionInfo": {
     "elapsed": 578,
     "status": "ok",
     "timestamp": 1630241213224,
     "user": {
      "displayName": "Shravan Singh",
      "photoUrl": "https://lh3.googleusercontent.com/a-/AOh14GgUPYw-iH_f65uyi91U5PxUsC83WzVqF39JDFCf=s64",
      "userId": "13063699925813608124"
     },
     "user_tz": -330
    },
    "id": "89VZ97gK8mNx"
   },
   "outputs": [],
   "source": [
    "#As you can see no null values found"
   ]
  },
  {
   "cell_type": "code",
   "execution_count": 25,
   "metadata": {
    "colab": {
     "base_uri": "https://localhost:8080/"
    },
    "executionInfo": {
     "elapsed": 338,
     "status": "ok",
     "timestamp": 1630241228385,
     "user": {
      "displayName": "Shravan Singh",
      "photoUrl": "https://lh3.googleusercontent.com/a-/AOh14GgUPYw-iH_f65uyi91U5PxUsC83WzVqF39JDFCf=s64",
      "userId": "13063699925813608124"
     },
     "user_tz": -330
    },
    "id": "P0JCaS-H8saT",
    "outputId": "028a8654-ff37-4dd0-88c5-8fbc4cea7a32"
   },
   "outputs": [
    {
     "data": {
      "text/plain": [
       "id                 0\n",
       "season             0\n",
       "city               0\n",
       "date               0\n",
       "team1              0\n",
       "team2              0\n",
       "toss_winner        0\n",
       "toss_decision      0\n",
       "result             0\n",
       "dl_applied         0\n",
       "winner             0\n",
       "win_by_runs        0\n",
       "win_by_wickets     0\n",
       "player_of_match    0\n",
       "venue              0\n",
       "umpire1            0\n",
       "umpire2            0\n",
       "dtype: int64"
      ]
     },
     "execution_count": 25,
     "metadata": {},
     "output_type": "execute_result"
    }
   ],
   "source": [
    "#Now all the null values have been removed \"CHECK\"\n",
    "\n",
    "match.isnull().sum()"
   ]
  },
  {
   "cell_type": "code",
   "execution_count": 26,
   "metadata": {
    "executionInfo": {
     "elapsed": 380,
     "status": "ok",
     "timestamp": 1630241243579,
     "user": {
      "displayName": "Shravan Singh",
      "photoUrl": "https://lh3.googleusercontent.com/a-/AOh14GgUPYw-iH_f65uyi91U5PxUsC83WzVqF39JDFCf=s64",
      "userId": "13063699925813608124"
     },
     "user_tz": -330
    },
    "id": "3v2YJPUn8v56"
   },
   "outputs": [],
   "source": [
    "#Simplifying the data more by converting the string data types to integer."
   ]
  },
  {
   "cell_type": "code",
   "execution_count": 27,
   "metadata": {
    "executionInfo": {
     "elapsed": 334,
     "status": "ok",
     "timestamp": 1630241357235,
     "user": {
      "displayName": "Shravan Singh",
      "photoUrl": "https://lh3.googleusercontent.com/a-/AOh14GgUPYw-iH_f65uyi91U5PxUsC83WzVqF39JDFCf=s64",
      "userId": "13063699925813608124"
     },
     "user_tz": -330
    },
    "id": "etFGnqT_8z3u"
   },
   "outputs": [],
   "source": [
    "#dropping the coloumn season since in the date coloumn that year ha salready been mentioned so dropping it"
   ]
  },
  {
   "cell_type": "code",
   "execution_count": 28,
   "metadata": {
    "executionInfo": {
     "elapsed": 333,
     "status": "ok",
     "timestamp": 1630241385944,
     "user": {
      "displayName": "Shravan Singh",
      "photoUrl": "https://lh3.googleusercontent.com/a-/AOh14GgUPYw-iH_f65uyi91U5PxUsC83WzVqF39JDFCf=s64",
      "userId": "13063699925813608124"
     },
     "user_tz": -330
    },
    "id": "6xaj8ZEz9Pmr"
   },
   "outputs": [],
   "source": [
    "match.drop(\"season\", axis=1, inplace=True)"
   ]
  },
  {
   "cell_type": "code",
   "execution_count": 29,
   "metadata": {
    "executionInfo": {
     "elapsed": 343,
     "status": "ok",
     "timestamp": 1630241398382,
     "user": {
      "displayName": "Shravan Singh",
      "photoUrl": "https://lh3.googleusercontent.com/a-/AOh14GgUPYw-iH_f65uyi91U5PxUsC83WzVqF39JDFCf=s64",
      "userId": "13063699925813608124"
     },
     "user_tz": -330
    },
    "id": "fAfyIjxm9WpB"
   },
   "outputs": [],
   "source": [
    "#Printing the Dataset after dropping the coloumn "
   ]
  },
  {
   "cell_type": "code",
   "execution_count": 30,
   "metadata": {
    "colab": {
     "base_uri": "https://localhost:8080/",
     "height": 391
    },
    "executionInfo": {
     "elapsed": 346,
     "status": "ok",
     "timestamp": 1630241407065,
     "user": {
      "displayName": "Shravan Singh",
      "photoUrl": "https://lh3.googleusercontent.com/a-/AOh14GgUPYw-iH_f65uyi91U5PxUsC83WzVqF39JDFCf=s64",
      "userId": "13063699925813608124"
     },
     "user_tz": -330
    },
    "id": "YU-Bc2159Zq9",
    "outputId": "37ee3b5a-ffe5-4d64-ec88-9a7a75e6d72e"
   },
   "outputs": [
    {
     "data": {
      "text/html": [
       "<div>\n",
       "<style scoped>\n",
       "    .dataframe tbody tr th:only-of-type {\n",
       "        vertical-align: middle;\n",
       "    }\n",
       "\n",
       "    .dataframe tbody tr th {\n",
       "        vertical-align: top;\n",
       "    }\n",
       "\n",
       "    .dataframe thead th {\n",
       "        text-align: right;\n",
       "    }\n",
       "</style>\n",
       "<table border=\"1\" class=\"dataframe\">\n",
       "  <thead>\n",
       "    <tr style=\"text-align: right;\">\n",
       "      <th></th>\n",
       "      <th>id</th>\n",
       "      <th>city</th>\n",
       "      <th>date</th>\n",
       "      <th>team1</th>\n",
       "      <th>team2</th>\n",
       "      <th>toss_winner</th>\n",
       "      <th>toss_decision</th>\n",
       "      <th>result</th>\n",
       "      <th>dl_applied</th>\n",
       "      <th>winner</th>\n",
       "      <th>win_by_runs</th>\n",
       "      <th>win_by_wickets</th>\n",
       "      <th>player_of_match</th>\n",
       "      <th>venue</th>\n",
       "      <th>umpire1</th>\n",
       "      <th>umpire2</th>\n",
       "    </tr>\n",
       "  </thead>\n",
       "  <tbody>\n",
       "    <tr>\n",
       "      <th>0</th>\n",
       "      <td>1</td>\n",
       "      <td>Hyderabad</td>\n",
       "      <td>2017-04-05</td>\n",
       "      <td>Sunrisers Hyderabad</td>\n",
       "      <td>Royal Challengers Bangalore</td>\n",
       "      <td>Royal Challengers Bangalore</td>\n",
       "      <td>field</td>\n",
       "      <td>normal</td>\n",
       "      <td>0</td>\n",
       "      <td>Sunrisers Hyderabad</td>\n",
       "      <td>35</td>\n",
       "      <td>0</td>\n",
       "      <td>Yuvraj Singh</td>\n",
       "      <td>Rajiv Gandhi International Stadium, Uppal</td>\n",
       "      <td>AY Dandekar</td>\n",
       "      <td>NJ Llong</td>\n",
       "    </tr>\n",
       "    <tr>\n",
       "      <th>1</th>\n",
       "      <td>2</td>\n",
       "      <td>Pune</td>\n",
       "      <td>2017-04-06</td>\n",
       "      <td>Mumbai Indians</td>\n",
       "      <td>Rising Pune Supergiant</td>\n",
       "      <td>Rising Pune Supergiant</td>\n",
       "      <td>field</td>\n",
       "      <td>normal</td>\n",
       "      <td>0</td>\n",
       "      <td>Rising Pune Supergiant</td>\n",
       "      <td>0</td>\n",
       "      <td>7</td>\n",
       "      <td>SPD Smith</td>\n",
       "      <td>Maharashtra Cricket Association Stadium</td>\n",
       "      <td>A Nand Kishore</td>\n",
       "      <td>S Ravi</td>\n",
       "    </tr>\n",
       "    <tr>\n",
       "      <th>2</th>\n",
       "      <td>3</td>\n",
       "      <td>Rajkot</td>\n",
       "      <td>2017-04-07</td>\n",
       "      <td>Gujarat Lions</td>\n",
       "      <td>Kolkata Knight Riders</td>\n",
       "      <td>Kolkata Knight Riders</td>\n",
       "      <td>field</td>\n",
       "      <td>normal</td>\n",
       "      <td>0</td>\n",
       "      <td>Kolkata Knight Riders</td>\n",
       "      <td>0</td>\n",
       "      <td>10</td>\n",
       "      <td>CA Lynn</td>\n",
       "      <td>Saurashtra Cricket Association Stadium</td>\n",
       "      <td>Nitin Menon</td>\n",
       "      <td>CK Nandan</td>\n",
       "    </tr>\n",
       "    <tr>\n",
       "      <th>3</th>\n",
       "      <td>4</td>\n",
       "      <td>Indore</td>\n",
       "      <td>2017-04-08</td>\n",
       "      <td>Rising Pune Supergiant</td>\n",
       "      <td>Kings XI Punjab</td>\n",
       "      <td>Kings XI Punjab</td>\n",
       "      <td>field</td>\n",
       "      <td>normal</td>\n",
       "      <td>0</td>\n",
       "      <td>Kings XI Punjab</td>\n",
       "      <td>0</td>\n",
       "      <td>6</td>\n",
       "      <td>GJ Maxwell</td>\n",
       "      <td>Holkar Cricket Stadium</td>\n",
       "      <td>AK Chaudhary</td>\n",
       "      <td>C Shamshuddin</td>\n",
       "    </tr>\n",
       "    <tr>\n",
       "      <th>5</th>\n",
       "      <td>6</td>\n",
       "      <td>Hyderabad</td>\n",
       "      <td>2017-04-09</td>\n",
       "      <td>Gujarat Lions</td>\n",
       "      <td>Sunrisers Hyderabad</td>\n",
       "      <td>Sunrisers Hyderabad</td>\n",
       "      <td>field</td>\n",
       "      <td>normal</td>\n",
       "      <td>0</td>\n",
       "      <td>Sunrisers Hyderabad</td>\n",
       "      <td>0</td>\n",
       "      <td>9</td>\n",
       "      <td>Rashid Khan</td>\n",
       "      <td>Rajiv Gandhi International Stadium, Uppal</td>\n",
       "      <td>A Deshmukh</td>\n",
       "      <td>NJ Llong</td>\n",
       "    </tr>\n",
       "  </tbody>\n",
       "</table>\n",
       "</div>"
      ],
      "text/plain": [
       "   id       city  ...         umpire1        umpire2\n",
       "0   1  Hyderabad  ...     AY Dandekar       NJ Llong\n",
       "1   2       Pune  ...  A Nand Kishore         S Ravi\n",
       "2   3     Rajkot  ...     Nitin Menon      CK Nandan\n",
       "3   4     Indore  ...    AK Chaudhary  C Shamshuddin\n",
       "5   6  Hyderabad  ...      A Deshmukh       NJ Llong\n",
       "\n",
       "[5 rows x 16 columns]"
      ]
     },
     "execution_count": 30,
     "metadata": {},
     "output_type": "execute_result"
    }
   ],
   "source": [
    "match.head()"
   ]
  },
  {
   "cell_type": "code",
   "execution_count": 31,
   "metadata": {
    "executionInfo": {
     "elapsed": 514,
     "status": "ok",
     "timestamp": 1630241580245,
     "user": {
      "displayName": "Shravan Singh",
      "photoUrl": "https://lh3.googleusercontent.com/a-/AOh14GgUPYw-iH_f65uyi91U5PxUsC83WzVqF39JDFCf=s64",
      "userId": "13063699925813608124"
     },
     "user_tz": -330
    },
    "id": "1J7MpV2O9byY"
   },
   "outputs": [],
   "source": [
    "#Working on the deliveries dataset"
   ]
  },
  {
   "cell_type": "code",
   "execution_count": 32,
   "metadata": {
    "colab": {
     "base_uri": "https://localhost:8080/",
     "height": 394
    },
    "executionInfo": {
     "elapsed": 1055,
     "status": "ok",
     "timestamp": 1630241624570,
     "user": {
      "displayName": "Shravan Singh",
      "photoUrl": "https://lh3.googleusercontent.com/a-/AOh14GgUPYw-iH_f65uyi91U5PxUsC83WzVqF39JDFCf=s64",
      "userId": "13063699925813608124"
     },
     "user_tz": -330
    },
    "id": "jz85nOLL-GBn",
    "outputId": "03a49805-281c-4747-8171-915be8e7adb7"
   },
   "outputs": [
    {
     "data": {
      "text/html": [
       "<div>\n",
       "<style scoped>\n",
       "    .dataframe tbody tr th:only-of-type {\n",
       "        vertical-align: middle;\n",
       "    }\n",
       "\n",
       "    .dataframe tbody tr th {\n",
       "        vertical-align: top;\n",
       "    }\n",
       "\n",
       "    .dataframe thead th {\n",
       "        text-align: right;\n",
       "    }\n",
       "</style>\n",
       "<table border=\"1\" class=\"dataframe\">\n",
       "  <thead>\n",
       "    <tr style=\"text-align: right;\">\n",
       "      <th></th>\n",
       "      <th>match_id</th>\n",
       "      <th>inning</th>\n",
       "      <th>batting_team</th>\n",
       "      <th>bowling_team</th>\n",
       "      <th>over</th>\n",
       "      <th>ball</th>\n",
       "      <th>batsman</th>\n",
       "      <th>non_striker</th>\n",
       "      <th>bowler</th>\n",
       "      <th>is_super_over</th>\n",
       "      <th>wide_runs</th>\n",
       "      <th>bye_runs</th>\n",
       "      <th>legbye_runs</th>\n",
       "      <th>noball_runs</th>\n",
       "      <th>penalty_runs</th>\n",
       "      <th>batsman_runs</th>\n",
       "      <th>extra_runs</th>\n",
       "      <th>total_runs</th>\n",
       "      <th>player_dismissed</th>\n",
       "      <th>dismissal_kind</th>\n",
       "      <th>fielder</th>\n",
       "    </tr>\n",
       "  </thead>\n",
       "  <tbody>\n",
       "    <tr>\n",
       "      <th>0</th>\n",
       "      <td>1</td>\n",
       "      <td>1</td>\n",
       "      <td>Sunrisers Hyderabad</td>\n",
       "      <td>Royal Challengers Bangalore</td>\n",
       "      <td>1</td>\n",
       "      <td>1</td>\n",
       "      <td>DA Warner</td>\n",
       "      <td>S Dhawan</td>\n",
       "      <td>TS Mills</td>\n",
       "      <td>0</td>\n",
       "      <td>0</td>\n",
       "      <td>0</td>\n",
       "      <td>0</td>\n",
       "      <td>0</td>\n",
       "      <td>0</td>\n",
       "      <td>0</td>\n",
       "      <td>0</td>\n",
       "      <td>0</td>\n",
       "      <td>NaN</td>\n",
       "      <td>NaN</td>\n",
       "      <td>NaN</td>\n",
       "    </tr>\n",
       "    <tr>\n",
       "      <th>1</th>\n",
       "      <td>1</td>\n",
       "      <td>1</td>\n",
       "      <td>Sunrisers Hyderabad</td>\n",
       "      <td>Royal Challengers Bangalore</td>\n",
       "      <td>1</td>\n",
       "      <td>2</td>\n",
       "      <td>DA Warner</td>\n",
       "      <td>S Dhawan</td>\n",
       "      <td>TS Mills</td>\n",
       "      <td>0</td>\n",
       "      <td>0</td>\n",
       "      <td>0</td>\n",
       "      <td>0</td>\n",
       "      <td>0</td>\n",
       "      <td>0</td>\n",
       "      <td>0</td>\n",
       "      <td>0</td>\n",
       "      <td>0</td>\n",
       "      <td>NaN</td>\n",
       "      <td>NaN</td>\n",
       "      <td>NaN</td>\n",
       "    </tr>\n",
       "    <tr>\n",
       "      <th>2</th>\n",
       "      <td>1</td>\n",
       "      <td>1</td>\n",
       "      <td>Sunrisers Hyderabad</td>\n",
       "      <td>Royal Challengers Bangalore</td>\n",
       "      <td>1</td>\n",
       "      <td>3</td>\n",
       "      <td>DA Warner</td>\n",
       "      <td>S Dhawan</td>\n",
       "      <td>TS Mills</td>\n",
       "      <td>0</td>\n",
       "      <td>0</td>\n",
       "      <td>0</td>\n",
       "      <td>0</td>\n",
       "      <td>0</td>\n",
       "      <td>0</td>\n",
       "      <td>4</td>\n",
       "      <td>0</td>\n",
       "      <td>4</td>\n",
       "      <td>NaN</td>\n",
       "      <td>NaN</td>\n",
       "      <td>NaN</td>\n",
       "    </tr>\n",
       "    <tr>\n",
       "      <th>3</th>\n",
       "      <td>1</td>\n",
       "      <td>1</td>\n",
       "      <td>Sunrisers Hyderabad</td>\n",
       "      <td>Royal Challengers Bangalore</td>\n",
       "      <td>1</td>\n",
       "      <td>4</td>\n",
       "      <td>DA Warner</td>\n",
       "      <td>S Dhawan</td>\n",
       "      <td>TS Mills</td>\n",
       "      <td>0</td>\n",
       "      <td>0</td>\n",
       "      <td>0</td>\n",
       "      <td>0</td>\n",
       "      <td>0</td>\n",
       "      <td>0</td>\n",
       "      <td>0</td>\n",
       "      <td>0</td>\n",
       "      <td>0</td>\n",
       "      <td>NaN</td>\n",
       "      <td>NaN</td>\n",
       "      <td>NaN</td>\n",
       "    </tr>\n",
       "    <tr>\n",
       "      <th>4</th>\n",
       "      <td>1</td>\n",
       "      <td>1</td>\n",
       "      <td>Sunrisers Hyderabad</td>\n",
       "      <td>Royal Challengers Bangalore</td>\n",
       "      <td>1</td>\n",
       "      <td>5</td>\n",
       "      <td>DA Warner</td>\n",
       "      <td>S Dhawan</td>\n",
       "      <td>TS Mills</td>\n",
       "      <td>0</td>\n",
       "      <td>2</td>\n",
       "      <td>0</td>\n",
       "      <td>0</td>\n",
       "      <td>0</td>\n",
       "      <td>0</td>\n",
       "      <td>0</td>\n",
       "      <td>2</td>\n",
       "      <td>2</td>\n",
       "      <td>NaN</td>\n",
       "      <td>NaN</td>\n",
       "      <td>NaN</td>\n",
       "    </tr>\n",
       "  </tbody>\n",
       "</table>\n",
       "</div>"
      ],
      "text/plain": [
       "   match_id  inning  ... dismissal_kind fielder\n",
       "0         1       1  ...            NaN     NaN\n",
       "1         1       1  ...            NaN     NaN\n",
       "2         1       1  ...            NaN     NaN\n",
       "3         1       1  ...            NaN     NaN\n",
       "4         1       1  ...            NaN     NaN\n",
       "\n",
       "[5 rows x 21 columns]"
      ]
     },
     "execution_count": 32,
     "metadata": {},
     "output_type": "execute_result"
    }
   ],
   "source": [
    "balls = pd.read_csv(r\"deliveries.csv\")\n",
    "balls.head()"
   ]
  },
  {
   "cell_type": "code",
   "execution_count": 33,
   "metadata": {
    "colab": {
     "base_uri": "https://localhost:8080/"
    },
    "executionInfo": {
     "elapsed": 592,
     "status": "ok",
     "timestamp": 1630241640560,
     "user": {
      "displayName": "Shravan Singh",
      "photoUrl": "https://lh3.googleusercontent.com/a-/AOh14GgUPYw-iH_f65uyi91U5PxUsC83WzVqF39JDFCf=s64",
      "userId": "13063699925813608124"
     },
     "user_tz": -330
    },
    "id": "eF0BUMgr-QhI",
    "outputId": "08d74ad4-a50f-4b71-d5a6-6644925a666a"
   },
   "outputs": [
    {
     "data": {
      "text/plain": [
       "(150460, 21)"
      ]
     },
     "execution_count": 33,
     "metadata": {},
     "output_type": "execute_result"
    }
   ],
   "source": [
    "balls.shape"
   ]
  },
  {
   "cell_type": "code",
   "execution_count": 34,
   "metadata": {
    "colab": {
     "base_uri": "https://localhost:8080/"
    },
    "executionInfo": {
     "elapsed": 357,
     "status": "ok",
     "timestamp": 1630241661789,
     "user": {
      "displayName": "Shravan Singh",
      "photoUrl": "https://lh3.googleusercontent.com/a-/AOh14GgUPYw-iH_f65uyi91U5PxUsC83WzVqF39JDFCf=s64",
      "userId": "13063699925813608124"
     },
     "user_tz": -330
    },
    "id": "GBeypWJK-Uva",
    "outputId": "e8810425-9a6c-40f5-81e4-bead6c84191b"
   },
   "outputs": [
    {
     "data": {
      "text/plain": [
       "match_id                 0\n",
       "inning                   0\n",
       "batting_team             0\n",
       "bowling_team             0\n",
       "over                     0\n",
       "ball                     0\n",
       "batsman                  0\n",
       "non_striker              0\n",
       "bowler                   0\n",
       "is_super_over            0\n",
       "wide_runs                0\n",
       "bye_runs                 0\n",
       "legbye_runs              0\n",
       "noball_runs              0\n",
       "penalty_runs             0\n",
       "batsman_runs             0\n",
       "extra_runs               0\n",
       "total_runs               0\n",
       "player_dismissed    143022\n",
       "dismissal_kind      143022\n",
       "fielder             145091\n",
       "dtype: int64"
      ]
     },
     "execution_count": 34,
     "metadata": {},
     "output_type": "execute_result"
    }
   ],
   "source": [
    "balls.isnull().sum()"
   ]
  },
  {
   "cell_type": "code",
   "execution_count": 36,
   "metadata": {
    "colab": {
     "base_uri": "https://localhost:8080/",
     "height": 363
    },
    "executionInfo": {
     "elapsed": 5125,
     "status": "ok",
     "timestamp": 1630241713331,
     "user": {
      "displayName": "Shravan Singh",
      "photoUrl": "https://lh3.googleusercontent.com/a-/AOh14GgUPYw-iH_f65uyi91U5PxUsC83WzVqF39JDFCf=s64",
      "userId": "13063699925813608124"
     },
     "user_tz": -330
    },
    "id": "wsadHARA-Z8K",
    "outputId": "9251e7b8-0220-46ff-9167-05b10dfccef8"
   },
   "outputs": [
    {
     "data": {
      "text/plain": [
       "<matplotlib.axes._subplots.AxesSubplot at 0x7f51818bb450>"
      ]
     },
     "execution_count": 36,
     "metadata": {},
     "output_type": "execute_result"
    },
    {
     "data": {
      "image/png": "[encoded data removed]",
      "text/plain": [
       "<Figure size 432x288 with 2 Axes>"
      ]
     },
     "metadata": {
      "needs_background": "light"
     },
     "output_type": "display_data"
    }
   ],
   "source": [
    "sns.heatmap(balls.isnull(), cmap=\"spring\")"
   ]
  },
  {
   "cell_type": "code",
   "execution_count": 37,
   "metadata": {
    "executionInfo": {
     "elapsed": 5,
     "status": "ok",
     "timestamp": 1630241754172,
     "user": {
      "displayName": "Shravan Singh",
      "photoUrl": "https://lh3.googleusercontent.com/a-/AOh14GgUPYw-iH_f65uyi91U5PxUsC83WzVqF39JDFCf=s64",
      "userId": "13063699925813608124"
     },
     "user_tz": -330
    },
    "id": "XJgcYb0g-jQV"
   },
   "outputs": [],
   "source": [
    "balls.dropna(inplace=True)"
   ]
  },
  {
   "cell_type": "code",
   "execution_count": 39,
   "metadata": {
    "colab": {
     "base_uri": "https://localhost:8080/",
     "height": 363
    },
    "executionInfo": {
     "elapsed": 1300,
     "status": "ok",
     "timestamp": 1630241775284,
     "user": {
      "displayName": "Shravan Singh",
      "photoUrl": "https://lh3.googleusercontent.com/a-/AOh14GgUPYw-iH_f65uyi91U5PxUsC83WzVqF39JDFCf=s64",
      "userId": "13063699925813608124"
     },
     "user_tz": -330
    },
    "id": "GEtSC2Wd-wgy",
    "outputId": "a9946d16-d881-4a7f-cb77-0c06c77bd581"
   },
   "outputs": [
    {
     "data": {
      "text/plain": [
       "<matplotlib.axes._subplots.AxesSubplot at 0x7f51818b5850>"
      ]
     },
     "execution_count": 39,
     "metadata": {},
     "output_type": "execute_result"
    },
    {
     "data": {
      "image/png": "[encoded data removed]",
      "text/plain": [
       "<Figure size 432x288 with 1 Axes>"
      ]
     },
     "metadata": {
      "needs_background": "light"
     },
     "output_type": "display_data"
    }
   ],
   "source": [
    "sns.heatmap(balls.isnull(), cbar=False)"
   ]
  },
  {
   "cell_type": "code",
   "execution_count": 40,
   "metadata": {
    "colab": {
     "base_uri": "https://localhost:8080/"
    },
    "executionInfo": {
     "elapsed": 394,
     "status": "ok",
     "timestamp": 1630241811148,
     "user": {
      "displayName": "Shravan Singh",
      "photoUrl": "https://lh3.googleusercontent.com/a-/AOh14GgUPYw-iH_f65uyi91U5PxUsC83WzVqF39JDFCf=s64",
      "userId": "13063699925813608124"
     },
     "user_tz": -330
    },
    "id": "pLqe7hzM-zfl",
    "outputId": "7ea4dbf7-17d4-4214-b8e8-1cd55b01a162"
   },
   "outputs": [
    {
     "data": {
      "text/plain": [
       "match_id            0\n",
       "inning              0\n",
       "batting_team        0\n",
       "bowling_team        0\n",
       "over                0\n",
       "ball                0\n",
       "batsman             0\n",
       "non_striker         0\n",
       "bowler              0\n",
       "is_super_over       0\n",
       "wide_runs           0\n",
       "bye_runs            0\n",
       "legbye_runs         0\n",
       "noball_runs         0\n",
       "penalty_runs        0\n",
       "batsman_runs        0\n",
       "extra_runs          0\n",
       "total_runs          0\n",
       "player_dismissed    0\n",
       "dismissal_kind      0\n",
       "fielder             0\n",
       "dtype: int64"
      ]
     },
     "execution_count": 40,
     "metadata": {},
     "output_type": "execute_result"
    }
   ],
   "source": [
    "#Now all the null values have been removed \"CHECK\"\n",
    "\n",
    "balls.isnull().sum()"
   ]
  },
  {
   "cell_type": "code",
   "execution_count": 41,
   "metadata": {
    "executionInfo": {
     "elapsed": 348,
     "status": "ok",
     "timestamp": 1630241868811,
     "user": {
      "displayName": "Shravan Singh",
      "photoUrl": "https://lh3.googleusercontent.com/a-/AOh14GgUPYw-iH_f65uyi91U5PxUsC83WzVqF39JDFCf=s64",
      "userId": "13063699925813608124"
     },
     "user_tz": -330
    },
    "id": "zRPJDuAp--b1"
   },
   "outputs": [],
   "source": [
    "#printing the new dataset"
   ]
  },
  {
   "cell_type": "code",
   "execution_count": 42,
   "metadata": {
    "colab": {
     "base_uri": "https://localhost:8080/",
     "height": 394
    },
    "executionInfo": {
     "elapsed": 547,
     "status": "ok",
     "timestamp": 1630241904068,
     "user": {
      "displayName": "Shravan Singh",
      "photoUrl": "https://lh3.googleusercontent.com/a-/AOh14GgUPYw-iH_f65uyi91U5PxUsC83WzVqF39JDFCf=s64",
      "userId": "13063699925813608124"
     },
     "user_tz": -330
    },
    "id": "RWXYM-4o_MhU",
    "outputId": "a2ed5646-97ca-47e3-c0ef-9ad237f47a49",
    "scrolled": true
   },
   "outputs": [
    {
     "data": {
      "text/html": [
       "<div>\n",
       "<style scoped>\n",
       "    .dataframe tbody tr th:only-of-type {\n",
       "        vertical-align: middle;\n",
       "    }\n",
       "\n",
       "    .dataframe tbody tr th {\n",
       "        vertical-align: top;\n",
       "    }\n",
       "\n",
       "    .dataframe thead th {\n",
       "        text-align: right;\n",
       "    }\n",
       "</style>\n",
       "<table border=\"1\" class=\"dataframe\">\n",
       "  <thead>\n",
       "    <tr style=\"text-align: right;\">\n",
       "      <th></th>\n",
       "      <th>match_id</th>\n",
       "      <th>inning</th>\n",
       "      <th>batting_team</th>\n",
       "      <th>bowling_team</th>\n",
       "      <th>over</th>\n",
       "      <th>ball</th>\n",
       "      <th>batsman</th>\n",
       "      <th>non_striker</th>\n",
       "      <th>bowler</th>\n",
       "      <th>is_super_over</th>\n",
       "      <th>wide_runs</th>\n",
       "      <th>bye_runs</th>\n",
       "      <th>legbye_runs</th>\n",
       "      <th>noball_runs</th>\n",
       "      <th>penalty_runs</th>\n",
       "      <th>batsman_runs</th>\n",
       "      <th>extra_runs</th>\n",
       "      <th>total_runs</th>\n",
       "      <th>player_dismissed</th>\n",
       "      <th>dismissal_kind</th>\n",
       "      <th>fielder</th>\n",
       "    </tr>\n",
       "  </thead>\n",
       "  <tbody>\n",
       "    <tr>\n",
       "      <th>11</th>\n",
       "      <td>1</td>\n",
       "      <td>1</td>\n",
       "      <td>Sunrisers Hyderabad</td>\n",
       "      <td>Royal Challengers Bangalore</td>\n",
       "      <td>2</td>\n",
       "      <td>5</td>\n",
       "      <td>DA Warner</td>\n",
       "      <td>S Dhawan</td>\n",
       "      <td>A Choudhary</td>\n",
       "      <td>0</td>\n",
       "      <td>0</td>\n",
       "      <td>0</td>\n",
       "      <td>0</td>\n",
       "      <td>0</td>\n",
       "      <td>0</td>\n",
       "      <td>0</td>\n",
       "      <td>0</td>\n",
       "      <td>0</td>\n",
       "      <td>DA Warner</td>\n",
       "      <td>caught</td>\n",
       "      <td>Mandeep Singh</td>\n",
       "    </tr>\n",
       "    <tr>\n",
       "      <th>64</th>\n",
       "      <td>1</td>\n",
       "      <td>1</td>\n",
       "      <td>Sunrisers Hyderabad</td>\n",
       "      <td>Royal Challengers Bangalore</td>\n",
       "      <td>11</td>\n",
       "      <td>3</td>\n",
       "      <td>S Dhawan</td>\n",
       "      <td>MC Henriques</td>\n",
       "      <td>STR Binny</td>\n",
       "      <td>0</td>\n",
       "      <td>0</td>\n",
       "      <td>0</td>\n",
       "      <td>0</td>\n",
       "      <td>0</td>\n",
       "      <td>0</td>\n",
       "      <td>0</td>\n",
       "      <td>0</td>\n",
       "      <td>0</td>\n",
       "      <td>S Dhawan</td>\n",
       "      <td>caught</td>\n",
       "      <td>Sachin Baby</td>\n",
       "    </tr>\n",
       "    <tr>\n",
       "      <th>94</th>\n",
       "      <td>1</td>\n",
       "      <td>1</td>\n",
       "      <td>Sunrisers Hyderabad</td>\n",
       "      <td>Royal Challengers Bangalore</td>\n",
       "      <td>16</td>\n",
       "      <td>2</td>\n",
       "      <td>MC Henriques</td>\n",
       "      <td>Yuvraj Singh</td>\n",
       "      <td>YS Chahal</td>\n",
       "      <td>0</td>\n",
       "      <td>0</td>\n",
       "      <td>0</td>\n",
       "      <td>0</td>\n",
       "      <td>0</td>\n",
       "      <td>0</td>\n",
       "      <td>0</td>\n",
       "      <td>0</td>\n",
       "      <td>0</td>\n",
       "      <td>MC Henriques</td>\n",
       "      <td>caught</td>\n",
       "      <td>Sachin Baby</td>\n",
       "    </tr>\n",
       "    <tr>\n",
       "      <th>165</th>\n",
       "      <td>1</td>\n",
       "      <td>2</td>\n",
       "      <td>Royal Challengers Bangalore</td>\n",
       "      <td>Sunrisers Hyderabad</td>\n",
       "      <td>7</td>\n",
       "      <td>3</td>\n",
       "      <td>CH Gayle</td>\n",
       "      <td>TM Head</td>\n",
       "      <td>DJ Hooda</td>\n",
       "      <td>0</td>\n",
       "      <td>0</td>\n",
       "      <td>0</td>\n",
       "      <td>0</td>\n",
       "      <td>0</td>\n",
       "      <td>0</td>\n",
       "      <td>0</td>\n",
       "      <td>0</td>\n",
       "      <td>0</td>\n",
       "      <td>CH Gayle</td>\n",
       "      <td>caught</td>\n",
       "      <td>DA Warner</td>\n",
       "    </tr>\n",
       "    <tr>\n",
       "      <th>199</th>\n",
       "      <td>1</td>\n",
       "      <td>2</td>\n",
       "      <td>Royal Challengers Bangalore</td>\n",
       "      <td>Sunrisers Hyderabad</td>\n",
       "      <td>12</td>\n",
       "      <td>4</td>\n",
       "      <td>KM Jadhav</td>\n",
       "      <td>TM Head</td>\n",
       "      <td>MC Henriques</td>\n",
       "      <td>0</td>\n",
       "      <td>0</td>\n",
       "      <td>0</td>\n",
       "      <td>0</td>\n",
       "      <td>0</td>\n",
       "      <td>0</td>\n",
       "      <td>1</td>\n",
       "      <td>0</td>\n",
       "      <td>1</td>\n",
       "      <td>KM Jadhav</td>\n",
       "      <td>run out</td>\n",
       "      <td>BCJ Cutting</td>\n",
       "    </tr>\n",
       "  </tbody>\n",
       "</table>\n",
       "</div>"
      ],
      "text/plain": [
       "     match_id  inning  ... dismissal_kind        fielder\n",
       "11          1       1  ...         caught  Mandeep Singh\n",
       "64          1       1  ...         caught    Sachin Baby\n",
       "94          1       1  ...         caught    Sachin Baby\n",
       "165         1       2  ...         caught      DA Warner\n",
       "199         1       2  ...        run out    BCJ Cutting\n",
       "\n",
       "[5 rows x 21 columns]"
      ]
     },
     "execution_count": 42,
     "metadata": {},
     "output_type": "execute_result"
    }
   ],
   "source": [
    "balls.head()"
   ]
  },
  {
   "cell_type": "code",
   "execution_count": null,
   "metadata": {
    "id": "proayKdg_VCb"
   },
   "outputs": [],
   "source": []
  }
 ],
 "metadata": {
  "colab": {
   "authorship_tag": "ABX9TyNN5P0IYaP7hkU+sSpW91BD",
   "name": "M17 ML1 ACP-2.ipynb",
   "provenance": []
  },
  "kernelspec": {
   "display_name": "Python 3",
   "language": "python",
   "name": "python3"
  },
  "language_info": {
   "codemirror_mode": {
    "name": "ipython",
    "version": 3
   },
   "file_extension": ".py",
   "mimetype": "text/x-python",
   "name": "python",
   "nbconvert_exporter": "python",
   "pygments_lexer": "ipython3",
   "version": "3.8.5"
  }
 },
 "nbformat": 4,
 "nbformat_minor": 1
}
